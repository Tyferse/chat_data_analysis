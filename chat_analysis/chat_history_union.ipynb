{
 "cells": [
  {
   "cell_type": "code",
   "execution_count": 47,
   "metadata": {},
   "outputs": [],
   "source": [
    "import datetime\n",
    "import pandas as pd"
   ]
  },
  {
   "cell_type": "code",
   "execution_count": null,
   "metadata": {},
   "outputs": [],
   "source": [
    "chat_df = pd.read_csv('chat_data/chat_history 2024-11-08 v2.csv').drop('Unnamed: 0', axis=1)\n",
    "members_df = pd.read_csv('chat_data/chat_members 2024-11-08 v2.csv').drop('Unnamed: 0', axis=1)\n",
    "reacts_df = pd.read_csv('chat_data/reactions 2024-11-08.csv')\n",
    "members_reacts_df = pd.read_csv('chat_data/members_reactions 2024-11-08.csv')\n",
    "chat_df"
   ]
  },
  {
   "cell_type": "code",
   "execution_count": null,
   "metadata": {},
   "outputs": [],
   "source": [
    "members_df.head(10)"
   ]
  },
  {
   "cell_type": "code",
   "execution_count": null,
   "metadata": {},
   "outputs": [],
   "source": [
    "chat_df.dtypes"
   ]
  },
  {
   "cell_type": "code",
   "execution_count": null,
   "metadata": {},
   "outputs": [],
   "source": [
    "chat_df.text = chat_df.text.fillna(\"\")\n",
    "chat_df.edited = pd.to_datetime(chat_df.edited, errors='coerce', unit='s') + datetime.timedelta(hours=10)\n",
    "chat_df.reply_to_id = chat_df.reply_to_id.fillna(0).astype(int)\n",
    "chat_df.date = pd.to_datetime(chat_df.date, errors='coerce')\n",
    "chat_df.dtypes"
   ]
  },
  {
   "cell_type": "markdown",
   "metadata": {},
   "source": [
    "## Объединение с предыдущей историей сообщений"
   ]
  },
  {
   "cell_type": "code",
   "execution_count": null,
   "metadata": {},
   "outputs": [],
   "source": [
    "chat_df2 = pd.read_csv('chat_data/chat_history 2024-09-17.csv')\n",
    "members_df2 = pd.read_csv('chat_data/chat_members 2024-09-17.csv')\n",
    "\n",
    "chat_df2.date = pd.to_datetime(chat_df2.date, errors=\"coerce\")\n",
    "chat_df2.edited = pd.to_datetime(chat_df2.edited, errors=\"coerce\", unit='s') + datetime.timedelta(hours=10)\n",
    "chat_df2.reply_to_id = chat_df2.reply_to_id.fillna(0).astype(int)\n",
    "\n",
    "chat_df2"
   ]
  },
  {
   "cell_type": "code",
   "execution_count": null,
   "metadata": {},
   "outputs": [],
   "source": [
    "members_df2[~members_df2.user_id.isin(members_df.user_id)]"
   ]
  },
  {
   "cell_type": "code",
   "execution_count": null,
   "metadata": {},
   "outputs": [],
   "source": [
    "chat_df2[~chat_df2.id.isin(chat_df.id)].from_id.unique()"
   ]
  },
  {
   "cell_type": "code",
   "execution_count": null,
   "metadata": {},
   "outputs": [],
   "source": [
    "members_df = pd.concat([members_df, members_df2[\n",
    "    ~members_df2.user_id.isin(members_df.user_id) \n",
    "    & members_df2.user_id.isin(chat_df2[~chat_df2.id.isin(chat_df.id)].from_id.unique())]], \n",
    "                       ignore_index=True)\n",
    "members_df"
   ]
  },
  {
   "cell_type": "code",
   "execution_count": null,
   "metadata": {},
   "outputs": [],
   "source": [
    "chat_df[(57069 <= chat_df.id) & (chat_df.id <= 142294)]"
   ]
  },
  {
   "cell_type": "code",
   "execution_count": null,
   "metadata": {},
   "outputs": [],
   "source": [
    "chat_df = (pd.concat([chat_df, chat_df2[~chat_df2.id.isin(chat_df.id)]], ignore_index=True)\n",
    "           .sort_values('id').reset_index(drop=True))\n",
    "chat_df"
   ]
  },
  {
   "cell_type": "code",
   "execution_count": null,
   "metadata": {},
   "outputs": [],
   "source": [
    "chat_df[(57069 <= chat_df.id) & (chat_df.id <= 142294)]"
   ]
  },
  {
   "cell_type": "code",
   "execution_count": 60,
   "metadata": {},
   "outputs": [],
   "source": [
    "chat_df.to_csv('chat_data/chat_history 2024-11-08 v3.csv', index=False)\n",
    "members_df.to_csv('chat_data/chat_members 2024-11-08 v3.csv', index=False)"
   ]
  }
 ],
 "metadata": {
  "kernelspec": {
   "display_name": "Python 3",
   "language": "python",
   "name": "python3"
  },
  "language_info": {
   "codemirror_mode": {
    "name": "ipython",
    "version": 3
   },
   "file_extension": ".py",
   "mimetype": "text/x-python",
   "name": "python",
   "nbconvert_exporter": "python",
   "pygments_lexer": "ipython3",
   "version": "3.10.7"
  }
 },
 "nbformat": 4,
 "nbformat_minor": 2
}
