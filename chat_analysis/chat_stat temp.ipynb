{
 "cells": [
  {
   "cell_type": "code",
   "execution_count": null,
   "id": "78d00201-9d6a-4de1-9cee-2174dcde7e94",
   "metadata": {},
   "outputs": [],
   "source": [
    "%matplotlib inline\n",
    "import datetime\n",
    "import matplotlib.pyplot as plt\n",
    "import numpy as np\n",
    "import pandas as pd\n",
    "from collections import Counter"
   ]
  },
  {
   "cell_type": "code",
   "execution_count": null,
   "id": "7d5e7664-c245-4f3f-8f33-1789873f7c2f",
   "metadata": {},
   "outputs": [],
   "source": [
    "chat_df = pd.read_csv('chat_data/chat_history 2024-11-08 v3.csv')\n",
    "members_df = pd.read_csv('chat_data/chat_members 2024-11-08 v3.csv')\n",
    "reacts_df = pd.read_csv('chat_data/reactions 2024-11-08.csv')\n",
    "members_reacts_df = pd.read_csv('chat_data/members_reactions 2024-11-08.csv')\n",
    "chat_df"
   ]
  },
  {
   "cell_type": "code",
   "execution_count": null,
   "id": "f4d85275-ce08-4164-a375-540c7f84ad01",
   "metadata": {},
   "outputs": [],
   "source": [
    "chat_df.dtypes"
   ]
  },
  {
   "cell_type": "code",
   "execution_count": null,
   "id": "6aa04ceb-f9fb-4422-a23b-c22880b2cb73",
   "metadata": {},
   "outputs": [],
   "source": [
    "chat_df.text = chat_df.text.fillna(\"\")\n",
    "chat_df.edited = pd.to_datetime(chat_df.edited, errors='coerce')\n",
    "chat_df.reply_to_id = chat_df.reply_to_id.fillna(0).astype(int)\n",
    "chat_df.date = pd.to_datetime(chat_df.date, errors='coerce')\n",
    "chat_df.dtypes"
   ]
  },
  {
   "cell_type": "markdown",
   "id": "00b690d0",
   "metadata": {},
   "source": [
    "## Анализ сообщений"
   ]
  },
  {
   "cell_type": "markdown",
   "id": "8b18a0b5",
   "metadata": {},
   "source": [
    "### Количество сообщений"
   ]
  },
  {
   "cell_type": "code",
   "execution_count": null,
   "id": "ae2b3ce2-86c0-428e-bf43-17326d67b904",
   "metadata": {},
   "outputs": [],
   "source": [
    "# Количество сообщений, отправленных участниками чата\n",
    "message_count = chat_df.groupby('from_id')[['id']].count().merge(members_df, left_on='from_id', right_on='user_id')[['username', 'id']]\\\n",
    "                       .sort_values('id', ascending=False).reset_index(drop=True)\n",
    "message_count[:20]"
   ]
  },
  {
   "cell_type": "code",
   "execution_count": null,
   "id": "973ec348-d367-4d2c-bf0e-a14fcb4b92d2",
   "metadata": {},
   "outputs": [],
   "source": [
    "# Круговая диаграмма доли сообщений пользователей\n",
    "main_members = message_count[message_count.id / message_count.id.sum() > 0.05]\n",
    "other_members = pd.Series({'username': 'Остальные', \n",
    "                           'id': message_count[message_count.id / message_count.id.sum() <= 0.05].id.sum()})\n",
    "(pd.concat([main_members, other_members.to_frame().T], ignore_index=True)\n",
    " .set_index('username')\n",
    " .plot.pie(y='id', figsize=(12, 10)))"
   ]
  },
  {
   "cell_type": "code",
   "execution_count": null,
   "id": "9946dfa8",
   "metadata": {},
   "outputs": [],
   "source": [
    "# Топ 100 самый часто встречающихся сообщений\n",
    "unique_messeges = chat_df[['id', 'text']]\n",
    "unique_messeges['text'] = unique_messeges.text.apply(lambda x: x.lower() if x.count(' ') != 0 else None).dropna()\n",
    "unique_messeges = (unique_messeges.groupby('text', as_index=False)['id'].count()\n",
    "                   .sort_values('id', ascending=False)\n",
    "                   .reset_index(drop=True))\n",
    "for i, row in unique_messeges[unique_messeges.id > 1][:100].iterrows():\n",
    "    print(row['text'], row['id'], sep=' | ', end='\\n\\n')"
   ]
  },
  {
   "cell_type": "markdown",
   "id": "e0581714",
   "metadata": {},
   "source": [
    "### Ответы"
   ]
  },
  {
   "cell_type": "code",
   "execution_count": null,
   "id": "dedb1e04",
   "metadata": {},
   "outputs": [],
   "source": [
    "# Вывести самые частые пары сообщений:\n",
    "# оригинальное сообщение и прямой ответ на него;\n",
    "# пара идущих друг за другом сообщений (что не всегда является\n",
    "# хорошим примером для будущего обучающего датасета)\n",
    "pairs = (chat_df.loc[1:, ['id', 'from_id', 'text', 'reply_to_id']]\n",
    "         .merge(members_df, left_on='from_id', right_on='user_id')\n",
    "         .reset_index(drop=True)\n",
    "         .rename(columns={'id': 'id2', 'from_id': 'from_id2', 'text': 'text2', 'username': 'user2'})\n",
    "         [['id2', 'user2', 'text2', 'reply_to_id']])\n",
    "pairs['reply_to_id'] = pd.Series([\n",
    "    prev_id if repi == 0 else repi\n",
    "    for prev_id, repi in zip(chat_df.id[:-1].to_list(), \n",
    "                             pairs.reply_to_id.to_list())])\n",
    "pairs = pairs.merge(chat_df[['id', 'from_id', 'text']]\n",
    "                    .merge(members_df, left_on='from_id', right_on='user_id')\n",
    "                    .rename(columns={'username': 'user'})\n",
    "                    [['id', 'user', 'text']], \n",
    "                    left_on='reply_to_id', right_on='id')\n",
    "pairs = pairs[['id', 'user', 'text', 'id2', 'user2', 'text2']]\n",
    "pairs['text'] = pairs.text.str.lower()\n",
    "pairs['text2'] = pairs.text2.str.lower()\n",
    "\n",
    "\n",
    "def print_most_friquent_pairs(df):\n",
    "    print(*list(sorted(\n",
    "        filter(lambda x: x[1] > 1,\n",
    "               Counter(list(zip(df.text.to_list(),\n",
    "                                df.text2.to_list()))).items()),\n",
    "        key=lambda x: x[1], reverse=True)),\n",
    "          sep='\\n\\n')\n",
    "\n",
    "# pairs\n",
    "print_most_friquent_pairs(pairs)"
   ]
  },
  {
   "cell_type": "code",
   "execution_count": null,
   "id": "c2b06b7c-7e3c-4bc4-b607-573705051f35",
   "metadata": {},
   "outputs": [],
   "source": [
    "# Кому чаще всего отвечали сообщением?\n",
    "def print_most_replied_users(chat_df, users_df):\n",
    "    return (chat_df.merge(chat_df[['id', 'from_id']].rename(\n",
    "        columns={'id': 'repl_id', 'from_id': 'pers_id'}), \n",
    "                          left_on='reply_to_id', \n",
    "                          right_on='repl_id', \n",
    "                          how='inner')\n",
    "                   .groupby('pers_id')[['repl_id']].count()\n",
    "                   .merge(users_df, left_on='pers_id', right_on='user_id')\n",
    "                   [['username', 'repl_id']]\n",
    "                   .sort_values('repl_id', ascending=False)\n",
    "                   .reset_index(drop=True)\n",
    "          )\n",
    "\n",
    "print_most_replied_users(chat_df, members_df)[:20]"
   ]
  },
  {
   "cell_type": "code",
   "execution_count": null,
   "id": "e4067574-af3a-4ff7-b4e6-b6b87a8114fb",
   "metadata": {},
   "outputs": [],
   "source": [
    "# Горизонтальная столбчатая диаграмма для данных выше\n",
    "(chat_df.merge(chat_df[['id', 'from_id']].rename(\n",
    "    columns={'id': 'repl_id', 'from_id': 'pers_id'}),\n",
    "              left_on='reply_to_id', right_on='repl_id', how='inner')\n",
    "        .groupby('pers_id')[['repl_id']].count()\n",
    "        .merge(members_df, left_on='pers_id', right_on='user_id')\n",
    "        [['username', 'repl_id']]\n",
    "        .sort_values('repl_id', ascending=False)\n",
    "        .reset_index(drop=True)[19::-1]\n",
    "        .plot.barh(x='username', figsize=(14, 6), title='Количество ответов на сообщения участников чата'));"
   ]
  },
  {
   "cell_type": "code",
   "execution_count": null,
   "id": "db8e3e5f-bad3-4f91-a1a6-293e6ddc66ae",
   "metadata": {},
   "outputs": [],
   "source": [
    "# Кто чаще всего отвечает на сообщения?\n",
    "def print_most_replying_users(chat_df, users_df):\n",
    "    return (chat_df[chat_df.reply_to_id != 0].groupby('from_id')[['id']].count()\n",
    "          .merge(users_df, left_on='from_id', right_on='user_id', how='left')[['username', 'id']]\n",
    "          .sort_values('id', ascending=False).reset_index(drop=True)\n",
    "          )\n",
    "\n",
    "print_most_replying_users(chat_df, members_df)[:20]"
   ]
  },
  {
   "cell_type": "code",
   "execution_count": null,
   "id": "bd9f20e9-912d-4dc0-be67-8204f8d6fa83",
   "metadata": {},
   "outputs": [],
   "source": [
    "# Горизонтальная столбчатая диаграмма для данных выше\n",
    "(chat_df[chat_df.reply_to_id != 0].groupby('from_id')[['id']].count()\n",
    "        .merge(members_df, left_on='from_id', right_on='user_id')[['username', 'id']]\n",
    "        .sort_values('id', ascending=False).reset_index(drop=True)[19::-1]\n",
    "        .plot.barh(x='username', figsize=(14, 6), title='Количество сообщений, на которые ответили участники чата'));"
   ]
  },
  {
   "cell_type": "code",
   "execution_count": null,
   "id": "7cd54e90-da55-4801-9769-42f78d5069e1",
   "metadata": {},
   "outputs": [],
   "source": [
    "# Кто кому чаще всего отвечает\n",
    "repl = sorted(list(Counter(zip(pairs.user, pairs.user2)).items()), key=lambda x: x[1], reverse=True)\n",
    "repl = [f'{u2} -> {u1} ({n})' for (u1, u2), n in repl if u1 != u2]\n",
    "print(*repl[:20], sep='\\n\\n')"
   ]
  },
  {
   "cell_type": "code",
   "execution_count": null,
   "id": "8e800513",
   "metadata": {},
   "outputs": [],
   "source": [
    "# На какие сообщения кто отвечает\n",
    "repl = sorted(list(Counter(zip(pairs.text, pairs.user2)).items()), key=lambda x: x[1], reverse=True)\n",
    "repl = [f'{u2} -> {txt} ({n})' for (txt, u2), n in repl]\n",
    "print(*repl[:20], sep='\\n\\n')"
   ]
  },
  {
   "cell_type": "code",
   "execution_count": null,
   "id": "8d163b94",
   "metadata": {},
   "outputs": [],
   "source": [
    "# Какими сообщениями кому отвечают\n",
    "repl = sorted(list(Counter(zip(pairs.user, pairs.text2)).items()), key=lambda x: x[1], reverse=True)\n",
    "repl = [f'{txt2} -> {u1} ({n})' for (u1, txt2), n in repl]\n",
    "print(*repl[:20], sep='\\n\\n')"
   ]
  },
  {
   "cell_type": "code",
   "execution_count": null,
   "id": "401bd4cd",
   "metadata": {},
   "outputs": [],
   "source": [
    "# Кто кому и что чаще всего пишет\n",
    "repl = sorted(list(Counter(zip(pairs.user, pairs.user2, pairs.text2)).items()), key=lambda x: x[1], reverse=True)\n",
    "repl = [f'{u2}: {txt} -> {u1} ({n})' for (u1, u2, txt), n in repl if u1 != u2 and n > 1]\n",
    "print(*repl[:20], sep='\\n\\n')"
   ]
  },
  {
   "cell_type": "code",
   "execution_count": null,
   "id": "56e07e25",
   "metadata": {},
   "outputs": [],
   "source": [
    "# Кто кому и на что чаще всего отвечает\n",
    "repl = sorted(list(Counter(zip(pairs.user, pairs.user2, pairs.text)).items()), key=lambda x: x[1], reverse=True)\n",
    "repl = [f'{u2} -> {u1}: {txt} ({n})' for (u1, u2, txt), n in repl if u1 != u2 and n > 1]\n",
    "print(*repl[:20], sep='\\n\\n')"
   ]
  },
  {
   "cell_type": "code",
   "execution_count": null,
   "id": "899742c5",
   "metadata": {},
   "outputs": [],
   "source": [
    "# Кто кому что отвечает на какое сообщение чаще всего\n",
    "repl = sorted(list(Counter(zip(pairs.user, pairs.user2, pairs.text, pairs.text2)).items()), key=lambda x: x[1], reverse=True)\n",
    "repl = [f'{u2}: {txt2} -> {u1}: {txt1} ({n})' for (u1, u2, txt1, txt2), n in repl if u1 != u2 and n > 1]\n",
    "print(*repl[:20], sep='\\n\\n')"
   ]
  },
  {
   "cell_type": "markdown",
   "id": "a0837fb7",
   "metadata": {},
   "source": [
    "### Отредактированные сообщения"
   ]
  },
  {
   "cell_type": "code",
   "execution_count": null,
   "id": "7e0c5246-18b9-4ba0-8a00-2a2451b82e65",
   "metadata": {},
   "outputs": [],
   "source": [
    "# Кто редактировал больше всего своих сообщений?\n",
    "edited_chat = chat_df[chat_df.edited != 0].groupby('from_id')[['edited']].count()\\\n",
    "                     .merge(members_df, left_on='from_id', right_on='user_id')[['username', 'edited']]\\\n",
    "                     .sort_values('edited', ascending=False).reset_index(drop=True)\n",
    "edited_chat[:20]"
   ]
  },
  {
   "cell_type": "code",
   "execution_count": null,
   "id": "7fee5344-ae49-4062-ab2f-92f2ae0eb46d",
   "metadata": {},
   "outputs": [],
   "source": [
    "ratio_edit = message_count[message_count.id >= 250].merge(edited_chat, on='username', how='left')\n",
    "ratio_edit.edited  = ratio_edit.edited / ratio_edit.id\n",
    "ratio_edit = ratio_edit.sort_values('edited', ascending=False).reset_index(drop=True)\n",
    "ratio_edit"
   ]
  },
  {
   "cell_type": "code",
   "execution_count": null,
   "id": "b4a51fb0",
   "metadata": {},
   "outputs": [],
   "source": [
    "# Сколько времени прошло до последнего изменения сообщения\n",
    "edited = chat_df[~chat_df.edited.isna()]\n",
    "edited.edited  = edited.edited - edited.date\n",
    "(edited.groupby(edited[edited.edited.dt.seconds <= 60].edited.dt.floor('1s')).count()[['id']]\n",
    "       .rename(columns={'id': 'id_count'})\n",
    "       .plot.area(figsize=(14, 6), title='Количество сообщений по времени с момента последнего изменения'))"
   ]
  },
  {
   "cell_type": "code",
   "execution_count": null,
   "id": "4a5451bf",
   "metadata": {},
   "outputs": [],
   "source": [
    "uid = ''  # идентификатор пользователя для индивидуального графика его времени последнего измения сообщений\n",
    "(edited[edited.from_id == uid].groupby(edited[edited.edited.dt.seconds <= 60].edited.dt.floor('1s')).count()[['id']]\n",
    "       .rename(columns={'id': 'id_count'})\n",
    "       .plot.area(figsize=(14, 6), title='Количество сообщений по времени с момента последнего изменения\\n'\n",
    "                  f'{members_df.loc[members_df.user_id == uid, [\"username\"]].values[0][0]}'));"
   ]
  },
  {
   "cell_type": "code",
   "execution_count": null,
   "id": "e9f68650",
   "metadata": {},
   "outputs": [],
   "source": [
    "# Сколько для каждого суммарно прошло времени от написания до последнего редактирования всех сообщений пользователя\n",
    "(edited.groupby('from_id', as_index=False).edited.sum()\\\n",
    "      .merge(members_df, how='left' , left_on='from_id', right_on='user_id')[['username', 'edited']]\n",
    "      .sort_values('edited').values.tolist())"
   ]
  },
  {
   "cell_type": "markdown",
   "id": "328a2bd3",
   "metadata": {},
   "source": [
    "### Время отправки сообщений"
   ]
  },
  {
   "cell_type": "code",
   "execution_count": null,
   "id": "1e2ea61f-46d9-4f37-9099-cbdcb1596d70",
   "metadata": {
    "scrolled": true
   },
   "outputs": [],
   "source": [
    "# Графики количества отправленных сообщений\n",
    "# chat_df.date = pd.to_datetime(chat_df.date, unit='s') + datetime.timedelta(hours=10)\n",
    "\n",
    "chat_df.groupby(chat_df.date.dt.to_period('D')).count()[['id']]\\\n",
    "       .rename(columns={'id': 'id_count'}).plot.area(figsize=(14, 6), title='Количество сообщений по дням')"
   ]
  },
  {
   "cell_type": "code",
   "execution_count": null,
   "id": "5ecdc985",
   "metadata": {},
   "outputs": [],
   "source": [
    "uid = ''  # # идентификатор пользователя для индивидуального графика количества сообщений по дням\n",
    "(chat_df[chat_df.from_id == uid].groupby(chat_df.date.dt.to_period('D')).count()[['id']]\n",
    "        .rename(columns={'id': 'id_count'})\n",
    "        .plot.area(figsize=(14, 6), title=f\"Количество сообщений по дням\" +\n",
    "                   f\"({members_df.loc[members_df.user_id == uid, ['username']].values[0][0]})\"));"
   ]
  },
  {
   "cell_type": "code",
   "execution_count": null,
   "id": "bca53c30-2daf-4760-b892-5da20a862ec6",
   "metadata": {},
   "outputs": [],
   "source": [
    "# Топ 10 самых активных дня\n",
    "(chat_df.groupby(chat_df.date.dt.to_period('D')).count()[['id']]\n",
    "        .rename(columns={'id': 'id_count'}).sort_values('id_count', ascending=False)[:10]);"
   ]
  },
  {
   "cell_type": "code",
   "execution_count": null,
   "id": "ef8fd889-515b-4afe-8703-91ddbc0c9287",
   "metadata": {},
   "outputs": [],
   "source": [
    "# График количества сообщений по неделям\n",
    "(chat_df.groupby(chat_df.date.dt.to_period('W')).count()[['id']]\n",
    "        .rename(columns={'id': 'id_count'})\n",
    "        .plot.area(figsize=(14, 6), title='Количество сообщений за неделю'))\n",
    "plt.xticks(rotation=90);"
   ]
  },
  {
   "cell_type": "code",
   "execution_count": null,
   "id": "f481adea-12d7-4fe3-92bb-a9a554f189d3",
   "metadata": {},
   "outputs": [],
   "source": [
    "# Количество сообщений по дням недели\n",
    "week = chat_df.groupby(chat_df.date.dt.to_period('D').dt.weekday).count()[['id']].rename(columns={'id': 'id_count'})\n",
    "week.index = ['Понедельник', 'вторник', 'Среда', 'Четверг', 'Пятница', 'Суббота', 'Воскресенье']\n",
    "week.plot.bar(figsize=(14, 6), title='Количество сообщений по дням недели')\n",
    "plt.xticks(rotation=0);"
   ]
  },
  {
   "cell_type": "code",
   "execution_count": null,
   "id": "b51ff7d6-8fb9-40c3-b604-66df93d72e24",
   "metadata": {},
   "outputs": [],
   "source": [
    "# Так как чат активен вплоть до 3 часов ночи, почему бы не сдвинуть день на 4 часа, \n",
    "# тем самым прибавив активности тем дням, которые ещё не закончились (то есть активные участники ещё не пошли спать)\n",
    "chat_df.date = chat_df.date - datetime.timedelta(hours=4)\n",
    "\n",
    "act_week = chat_df.groupby(chat_df.date.dt.to_period('D').dt.weekday).count()[['id']].rename(columns={'id': 'id_count'})\n",
    "act_week.index = ['Понедельник', 'вторник', 'Среда', 'Четверг', 'Пятница', 'Суббота', 'Воскресенье']\n",
    "act_week.plot.bar(figsize=(14, 6), title='Количество сообщений во времена наибольшей активности по дням недели')\n",
    "plt.xticks(rotation=0)\n",
    "\n",
    "chat_df.date = chat_df.date + datetime.timedelta(hours=4)"
   ]
  },
  {
   "cell_type": "code",
   "execution_count": null,
   "id": "92ff90cc-bfcf-42c6-b3bc-7263251f0151",
   "metadata": {},
   "outputs": [],
   "source": [
    "(chat_df.groupby(chat_df['date'].dt.to_period('H').dt.hour).count()[['id']]\n",
    "        .rename(columns={'id': 'id_count'})\n",
    "        .plot.bar(figsize=(14, 6), title='Количество сообщений в день по часам'))"
   ]
  },
  {
   "cell_type": "code",
   "execution_count": null,
   "id": "304cd63a-2daf-41e7-b999-3ed4498edada",
   "metadata": {},
   "outputs": [],
   "source": [
    "# Количество активных участников по часам\n",
    "unique_users = chat_df.groupby(chat_df['date'].dt.to_period('H')).agg({'from_id': 'nunique'})\n",
    "unique_users.index =  unique_users.index.hour\n",
    "unique_users.groupby(level=0).mean().plot.bar(figsize=(14, 6), title='Среднее количество уникальных пользователей по часам')"
   ]
  },
  {
   "cell_type": "code",
   "execution_count": null,
   "id": "7460affb-7a02-405a-ac79-7726adf9dfa8",
   "metadata": {},
   "outputs": [],
   "source": [
    "# Кто больше всего активен в конкретный час\n",
    "mess_per_hour = chat_df.groupby([chat_df['date'].dt.to_period('H').dt.hour, 'from_id']).agg({'id': 'count'}).reset_index()\n",
    "mess_per_hour.groupby('date')[['id']].idxmax().merge(mess_per_hour, left_on='id', right_index=True)[['from_id', 'id_y']]\\\n",
    "             .merge(members_df, left_on='from_id', right_on='user_id', how='left')[['username', 'id_y']].plot.bar(figsize=(14, 6))\n",
    "plt.xticks(rotation=0)\n",
    "plt.show()\n",
    "\n",
    "mess_per_hour.groupby('date')[['id']].idxmax().merge(mess_per_hour, left_on='id', right_index=True)[['from_id', 'id_y']]\\\n",
    ".merge(members_df, left_on='from_id', right_on='user_id', how='left')[['username', 'id_y']]"
   ]
  },
  {
   "cell_type": "markdown",
   "id": "69265d6e",
   "metadata": {},
   "source": [
    "### Стикеры"
   ]
  },
  {
   "cell_type": "code",
   "execution_count": null,
   "id": "f110aeb0-b0fa-450a-974b-7b0148d71502",
   "metadata": {},
   "outputs": [],
   "source": [
    "stickers = chat_df[chat_df.text.str.startswith('File: <chat_data') & chat_df.text.str.endswith('>')][['from_id', 'text']]\\\n",
    "                  .merge(members_df, left_on='from_id', right_on='user_id')[['username', 'text']]\\\n",
    "                  .rename(columns={'text': 'sticker'})\n",
    "stickers"
   ]
  },
  {
   "cell_type": "code",
   "execution_count": null,
   "id": "a2e2338f-7823-4514-b413-c2e42025e662",
   "metadata": {},
   "outputs": [],
   "source": [
    "# Самые используемые стикеры\n",
    "stickers.groupby('sticker')[['username']].count().rename(columns={'username': 'count'})\\\n",
    "        .sort_values('count', ascending=False).reset_index()[:20]"
   ]
  },
  {
   "cell_type": "code",
   "execution_count": null,
   "id": "0af2c7f6-ec5d-4721-b031-7d9a904035f5",
   "metadata": {},
   "outputs": [],
   "source": [
    "import cv2\n",
    "import os\n",
    "from PIL import Image\n",
    "\n",
    "\n",
    "fig, axs = plt.subplots(4, 5, figsize=(15, 12))\n",
    "fig.subplots_adjust(wspace=0.1, hspace=0.4)\n",
    "i = 0\n",
    "for s in (stickers.groupby('sticker')[['username']].count().rename(columns={'username': 'count'})\\\n",
    "          .sort_values('count', ascending=False).reset_index().iterrows()):\n",
    "    sn = s[1]['sticker']\n",
    "    file = sn[sn.index('<') + 1: sn.index('>')]\n",
    "    if not os.path.exists('.'.join(file.split('.')[:-1]) + '.jpg'):\n",
    "        if file.split('.')[-1] == 'webp':\n",
    "            image_webp = Image.open(file)\n",
    "            \n",
    "            print(file, end='\\t||\\t')\n",
    "            file = '.'.join(file.split('.')[:-1]) + '.jpg'\n",
    "            print(file)\n",
    "            \n",
    "            image_webp.convert('RGB').save(file)\n",
    "            \n",
    "        elif file.split('.')[-1] == 'webm':\n",
    "            video_capture = cv2.VideoCapture(file)\n",
    "            success, image = video_capture.read()\n",
    "\n",
    "            print(file, end='\\t||\\t')\n",
    "            file = '.'.join(file.split('.')[:-1]) + '.jpg'\n",
    "            print(file)\n",
    "            \n",
    "            cv2.imwrite(file, image)\n",
    "            \n",
    "        elif file.split('.')[-1] == 'tgs' and os.path.exists('.'.join(file.split('.')[:-1]) + '.webp'):\n",
    "            # convertLottie2Webp(file, '.'.join(file.split('.')[:-1]) + '.webp')\n",
    "            # lottie_convert.py \"ChatExport_2024-02-15/stickers/AnimatedSticker (53).tgs\" \"ChatExport_2024-02-15/stickers/AnimatedSticker (53).webp\"\n",
    "            file = '.'.join(file.split('.')[:-1]) + '.webp'\n",
    "            image_webp = Image.open(file)\n",
    "            \n",
    "            print(file, end='\\t||\\t')\n",
    "            file = '.'.join(file.split('.')[:-1]) + '.jpg'\n",
    "            print(file)\n",
    "            \n",
    "            image_webp.convert('RGB').save(file)\n",
    "    else:\n",
    "        file = '.'.join(file.split('.')[:-1]) + '.jpg'\n",
    "    \n",
    "    image = cv2.imread(file)\n",
    "    if image is None:\n",
    "        continue\n",
    "\n",
    "    # print(file, image)\n",
    "    image_rgb = cv2.cvtColor(image, cv2.COLOR_BGR2RGB)\n",
    "\n",
    "    axs[i // 5, i % 5].imshow(image_rgb)\n",
    "    axs[i // 5, i % 5].set_title(f\"{i + 1} ({s[1]['count']})\")\n",
    "    axs[i // 5, i % 5].axis('off')\n",
    "    \n",
    "    i += 1\n",
    "    if i > 19:\n",
    "        break\n",
    "\n",
    "plt.show()"
   ]
  },
  {
   "cell_type": "code",
   "execution_count": null,
   "id": "ddb0c16c",
   "metadata": {},
   "outputs": [],
   "source": [
    "# Любимые стикеры у участников чата\n",
    "members_stickers = stickers[:]\n",
    "members_stickers['count'] = pd.Series([0] * stickers.shape[0])\n",
    "members_stickers = (members_stickers.groupby(['username', 'sticker'], as_index=False).count()\n",
    "                                    .sort_values(['username', 'count', 'sticker'], ascending=[True, False, True]))\n",
    "members_stickers = (members_stickers.groupby('username', as_index=False).agg({'count': 'max', 'sticker': 'first'})\n",
    "                                    .sort_values('count', ascending=False)\n",
    "                                    .reset_index(drop=True))\n",
    "members_stickers.head(10)"
   ]
  },
  {
   "cell_type": "code",
   "execution_count": null,
   "id": "116919fa",
   "metadata": {},
   "outputs": [],
   "source": [
    "import cv2\n",
    "import os\n",
    "from PIL import Image\n",
    "\n",
    "\n",
    "nrows = members_stickers.username.count() // 5 + 1\n",
    "fig, axs = plt.subplots(nrows, 5, figsize=(12, 2.4 * nrows))\n",
    "fig.subplots_adjust(wspace=0.2, hspace=0.3)\n",
    "i = 0\n",
    "for s in (members_stickers.iterrows()):\n",
    "    sn = s[1]['sticker']\n",
    "    file = sn[sn.index('<') + 1: sn.index('>')]\n",
    "    if not os.path.exists('.'.join(file.split('.')[:-1]) + '.jpg'):\n",
    "        if file.split('.')[-1] == 'webp':\n",
    "            image_webp = Image.open(file)\n",
    "            \n",
    "            print(file, end='\\t||\\t')\n",
    "            file = '.'.join(file.split('.')[:-1]) + '.jpg'\n",
    "            print(file)\n",
    "            \n",
    "            image_webp.convert('RGB').save(file)\n",
    "            \n",
    "        elif file.split('.')[-1] == 'webm':\n",
    "            video_capture = cv2.VideoCapture(file)\n",
    "            success, image = video_capture.read()\n",
    "\n",
    "            print(file, end='\\t||\\t')\n",
    "            file = '.'.join(file.split('.')[:-1]) + '.jpg'\n",
    "            print(file)\n",
    "            \n",
    "            cv2.imwrite(file, image)\n",
    "            \n",
    "        elif file.split('.')[-1] == 'tgs' and os.path.exists('.'.join(file.split('.')[:-1]) + '.webp'):\n",
    "            # convertLottie2Webp(file, '.'.join(file.split('.')[:-1]) + '.webp')\n",
    "            # lottie_convert.py \"ChatExport_2024-02-15/stickers/AnimatedSticker (53).tgs\" \"ChatExport_2024-02-15/stickers/AnimatedSticker (53).webp\"\n",
    "            file = '.'.join(file.split('.')[:-1]) + '.webp'\n",
    "            image_webp = Image.open(file)\n",
    "            \n",
    "            print(file, end='\\t||\\t')\n",
    "            file = '.'.join(file.split('.')[:-1]) + '.jpg'\n",
    "            print(file)\n",
    "            \n",
    "            image_webp.convert('RGB').save(file)\n",
    "    else:\n",
    "        file = '.'.join(file.split('.')[:-1]) + '.jpg'\n",
    "    \n",
    "    image = cv2.imread(file)\n",
    "    if image is None:\n",
    "        continue\n",
    "\n",
    "    # print(file, image)\n",
    "    image_rgb = cv2.cvtColor(image, cv2.COLOR_BGR2RGB)\n",
    "\n",
    "    axs[i // 5, i % 5].imshow(image_rgb)\n",
    "    axs[i // 5, i % 5].set_title(f\"{s[1].username} ({s[1]['count']})\")\n",
    "    axs[i // 5, i % 5].axis('off')\n",
    "    \n",
    "    i += 1\n",
    "\n",
    "if i <= nrows*5:\n",
    "    while i < nrows*5:\n",
    "        axs[i // 5, i % 5].axis('off')\n",
    "        i += 1\n",
    "\n",
    "plt.show()"
   ]
  },
  {
   "cell_type": "code",
   "execution_count": null,
   "id": "1bc407b4",
   "metadata": {},
   "outputs": [],
   "source": [
    "# Вывод топ 10 стикеров и конвертация в jpg\n",
    "import cv2\n",
    "import os\n",
    "from PIL import Image\n",
    "\n",
    "\n",
    "fig, axs = plt.subplots(2, 5, figsize=(15, 6))\n",
    "fig.subplots_adjust(wspace=0.1, hspace=0.4)\n",
    "i = 0\n",
    "for s in (stickers[stickers.username == 'Cthulhu Fxhnsky']\n",
    "                  .groupby('sticker')[['username']].count()\n",
    "                  .rename(columns={'username': 'count'})\n",
    "                  .sort_values('count', ascending=False)\n",
    "                  .reset_index().iterrows()):\n",
    "    sn = s[1]['sticker']\n",
    "    file = sn[sn.index('<') + 1: sn.index('>')]\n",
    "    if not os.path.exists('.'.join(file.split('.')[:-1]) + '.jpg'):\n",
    "        if file.split('.')[-1] == 'webp':\n",
    "            image_webp = Image.open(file)\n",
    "            \n",
    "            print(file, end='\\t||\\t')\n",
    "            file = '.'.join(file.split('.')[:-1]) + '.jpg'\n",
    "            print(file)\n",
    "            \n",
    "            image_webp.convert('RGB').save(file)\n",
    "            \n",
    "        elif file.split('.')[-1] == 'webm':\n",
    "            video_capture = cv2.VideoCapture(file)\n",
    "            success, image = video_capture.read()\n",
    "\n",
    "            print(file, end='\\t||\\t')\n",
    "            file = '.'.join(file.split('.')[:-1]) + '.jpg'\n",
    "            print(file)\n",
    "            \n",
    "            cv2.imwrite(file, image)\n",
    "            \n",
    "        elif file.split('.')[-1] == 'tgs' and os.path.exists('.'.join(file.split('.')[:-1]) + '.webp'):\n",
    "            # convertLottie2Webp(file, '.'.join(file.split('.')[:-1]) + '.webp')\n",
    "            # lottie_convert.py \"ChatExport_2024-02-15/stickers/AnimatedSticker (53).tgs\" \"ChatExport_2024-02-15/stickers/AnimatedSticker (53).webp\"\n",
    "            file = '.'.join(file.split('.')[:-1]) + '.webp'\n",
    "            image_webp = Image.open(file)\n",
    "            \n",
    "            print(file, end='\\t||\\t')\n",
    "            file = '.'.join(file.split('.')[:-1]) + '.jpg'\n",
    "            print(file)\n",
    "            \n",
    "            image_webp.convert('RGB').save(file)\n",
    "    else:\n",
    "        file = '.'.join(file.split('.')[:-1]) + '.jpg'\n",
    "    \n",
    "    image = cv2.imread(file)\n",
    "    if image is None:\n",
    "        continue\n",
    "\n",
    "    # print(file, image)\n",
    "    image_rgb = cv2.cvtColor(image, cv2.COLOR_BGR2RGB)\n",
    "\n",
    "    axs[i // 5, i % 5].imshow(image_rgb)\n",
    "    axs[i // 5, i % 5].set_title(f\"{i + 1} ({s[1]['count']})\")\n",
    "    axs[i // 5, i % 5].axis('off')\n",
    "    \n",
    "    i += 1\n",
    "    if i > 9:\n",
    "        break\n",
    "\n",
    "plt.show()"
   ]
  },
  {
   "cell_type": "markdown",
   "id": "95fb343d",
   "metadata": {},
   "source": [
    "## Анализ слов"
   ]
  },
  {
   "cell_type": "code",
   "execution_count": null,
   "id": "e31a7135-5aa0-446e-a4ca-6e75c00d54fa",
   "metadata": {},
   "outputs": [],
   "source": [
    "# Вывод топ 20 слов по частоте\n",
    "import re\n",
    "\n",
    "\n",
    "all_words = []\n",
    "for m in chat_df[~chat_df.text.str.startswith('File: <')].text.str.split().to_list():\n",
    "    all_words.extend(m)\n",
    "\n",
    "all_words = [re.sub(r'[^0-9a-zA-Zа-яёА-ЯЁ\\s]', '', w) for w in all_words]\n",
    "print(*sorted(Counter(all_words).items(), key=lambda x: x[1], reverse=True)[:20], sep='\\n')"
   ]
  },
  {
   "cell_type": "markdown",
   "id": "eeacaeff",
   "metadata": {},
   "source": [
    "### Токенизация"
   ]
  },
  {
   "cell_type": "code",
   "execution_count": null,
   "id": "f2b75d81-5175-48ee-89c8-1529285ad17a",
   "metadata": {},
   "outputs": [],
   "source": [
    "import nltk.data\n",
    "from nltk.tokenize import word_tokenize\n",
    "from nltk.corpus import stopwords\n",
    "\n",
    "\n",
    "nltk.data.path.append(\"bigdata/local_nltk\")\n",
    "\n",
    "\n",
    "def collect_lists(*args):\n",
    "    all_els = []\n",
    "    for l in args:\n",
    "        # print(l.to_list(), end='\\n' + '_' * 20 + '\\n')\n",
    "        arg_list = []\n",
    "        for el in l.to_list():\n",
    "            arg_list.extend(el)\n",
    "        \n",
    "        all_els.extend(arg_list)\n",
    "    \n",
    "    return all_els\n",
    "\n",
    "\n",
    "def to_words(message):\n",
    "    # print(message)\n",
    "    # return message\n",
    "    \n",
    "    tokens = []\n",
    "    for w in message:\n",
    "        # if 'http://' in w or 'https://' in w:\n",
    "        #     continue\n",
    "        \n",
    "        tokens.extend(word_tokenize(w, language='russian'))\n",
    "    \n",
    "    lowercase_tokens = [m.lower() for m in tokens]\n",
    "    \n",
    "    stop_words = set(stopwords.words('russian'))\n",
    "    filtered_tokens = [w for w in lowercase_tokens if w not in stop_words]\n",
    "    \n",
    "    return list(filter(lambda x: x, filtered_tokens))\n",
    "    # print(*sorted(Counter(tokenized_words).items(), \n",
    "    #               key=lambda x: x[1], reverse=True)[1:21], sep='\\n')\n",
    "\n",
    "\n",
    "# Считаем количество слов для каждого участника\n",
    "words_df = chat_df[~chat_df.text.str.startswith('File: <')][['from_id', 'text']]\n",
    "words_df.text = words_df.text.str.split().to_list()\n",
    "words_df = words_df.groupby('from_id').agg({'text': collect_lists}).reset_index()\n",
    "words_df.text = words_df.text.apply(to_words)\n",
    "words_df[:20]"
   ]
  },
  {
   "cell_type": "code",
   "execution_count": null,
   "id": "fd7343d3-89e5-4710-b594-618242a02cdd",
   "metadata": {},
   "outputs": [],
   "source": [
    "# Количество слов каждого участника чата\n",
    "words_count = words_df[:]\n",
    "words_count.text = words_count.text.apply(len)\n",
    "words_count = words_count.merge(members_df, left_on='from_id', right_on='user_id')[['username', 'text']]\\\n",
    "                         .sort_values('text', ascending=False).reset_index(drop=True)\n",
    "words_count[:20]"
   ]
  },
  {
   "cell_type": "code",
   "execution_count": null,
   "id": "fdc69aa5-2aab-490a-8e9c-42673f944907",
   "metadata": {
    "scrolled": true
   },
   "outputs": [],
   "source": [
    "# Токены, используемые каждым участником чата, отсортированные по частоте\n",
    "def top10words(wl):\n",
    "    wlt = sorted(list(Counter(wl).items()), key=lambda x: x[1], reverse=True)\n",
    "    return wlt\n",
    "\n",
    "word_stat = words_df[:]\n",
    "word_stat.text = words_df.text.apply(top10words)\n",
    "word_stat = word_stat.merge(members_df, left_on='from_id', right_on='user_id', how='left')[['username', 'text']].reset_index(drop=True)\n",
    "\n",
    "for u, wl in sorted(zip(word_stat.username, word_stat.text), key=lambda x: len(x[1]), reverse=True)[:20]:\n",
    "    wl = [(w, k) for w, k in wl if k > 1]\n",
    "    if len(wl) > 1:\n",
    "        print(u, end='\\n\\n')\n",
    "        print(wl, end='\\n\\n\\n')"
   ]
  },
  {
   "cell_type": "code",
   "execution_count": null,
   "id": "0f29398a",
   "metadata": {},
   "outputs": [],
   "source": [
    "# Словарный запас каждого участника чата\n",
    "unique_words = word_stat[:]\n",
    "unique_words['uw'] = unique_words.text.apply(len)\n",
    "unique_words.sort_values('uw', ascending=False).reset_index(drop=True).loc[:19, ['username', 'uw']]"
   ]
  },
  {
   "cell_type": "code",
   "execution_count": null,
   "id": "63e82374",
   "metadata": {},
   "outputs": [],
   "source": [
    "uwc = words_count.merge(unique_words[['username', 'uw']], on='username')\n",
    "uwc['uwp'] = uwc.uw / uwc.text\n",
    "uwc[uwc.text > 500].sort_values('uwp', ascending=False)"
   ]
  },
  {
   "cell_type": "code",
   "execution_count": null,
   "id": "d8eb103c-2bfd-4a56-867b-adc72bb94a98",
   "metadata": {},
   "outputs": [],
   "source": [
    "# Кто сколько использует конкретные слова\n",
    "words_users_df = words_df.explode('text')\n",
    "words_users_df = words_users_df.groupby('text')['from_id'].apply(list).reset_index()\n",
    "words_users_df.from_id = words_users_df.from_id.apply(\n",
    "    lambda x: sorted(list(Counter(x).items()), key=lambda x: x[1], reverse=True))\n",
    "\n",
    "ud = {ui: nm for ui, nm in zip(members_df.user_id, members_df.username)}\n",
    "words_users_df.from_id = words_users_df.from_id.apply(lambda x: [(ud[u], k) for u, k in x])\n",
    "words_users_df['word_count'] = words_users_df.from_id.apply(lambda x: sum(k for _, k in x))\n",
    "words_users_df = words_users_df.sort_values('word_count', ascending=False).reset_index(drop=True)\n",
    "words_users_df[words_users_df.word_count > 1]"
   ]
  },
  {
   "cell_type": "code",
   "execution_count": null,
   "id": "d8b22d41",
   "metadata": {},
   "outputs": [],
   "source": [
    "# Лемматизируем текста сообщений\n",
    "import pymorphy2\n",
    "\n",
    "\n",
    "lemmatizer = pymorphy2.MorphAnalyzer()\n",
    "lemm_words_df = words_df[:]\n",
    "lemm_words_df.text = lemm_words_df.text.apply(lambda x: [lemmatizer.parse(word)[0].normal_form for word in x])\n",
    "lemm_words_df[:20]"
   ]
  },
  {
   "cell_type": "code",
   "execution_count": null,
   "id": "d5d4d9a1",
   "metadata": {},
   "outputs": [],
   "source": [
    "# Кто сколько использует конкретные (лемматизированные) слова\n",
    "lemm_words_users_df = lemm_words_df.explode('text')\n",
    "lemm_words_users_df = lemm_words_users_df.groupby('text')['from_id'].apply(list).reset_index()\n",
    "lemm_words_users_df.from_id = lemm_words_users_df.from_id.apply(\n",
    "    lambda x: sorted(list(Counter(x).items()), key=lambda x: x[1], reverse=True))\n",
    "\n",
    "ud = {ui: nm for ui, nm in zip(members_df.user_id, members_df.username)}\n",
    "lemm_words_users_df.from_id = lemm_words_users_df.from_id.apply(lambda x: [(ud[u], k) for u, k in x])\n",
    "lemm_words_users_df['word_count'] = lemm_words_users_df.from_id.apply(lambda x: sum(k for u, k in x))\n",
    "lemm_words_users_df = lemm_words_users_df.sort_values('word_count', ascending=False).reset_index(drop=True)\n",
    "lemm_words_users_df[lemm_words_users_df.word_count > 1]"
   ]
  },
  {
   "cell_type": "code",
   "execution_count": null,
   "id": "52b41090",
   "metadata": {},
   "outputs": [],
   "source": [
    "# Слово, и кто сколько его использовал в своих сообщениях\n",
    "for i, line in lemm_words_users_df[lemm_words_users_df.text.str.startswith('your_word_here')].iterrows():\n",
    "    print(line.text, end='\\n\\n')\n",
    "    print(*line.from_id[:10 if len(line.from_id) >= 10 else len(line.from_id)], sep='\\n', end='\\n\\n\\n')"
   ]
  },
  {
   "cell_type": "code",
   "execution_count": null,
   "id": "56a8577f-54aa-4f79-a20f-20fdd400e0be",
   "metadata": {
    "scrolled": true
   },
   "outputs": [],
   "source": [
    "# Кто использовал слова, встречающиеся в чате всего 1 раз\n",
    "one_word_df = lemm_words_users_df[lemm_words_users_df.word_count == 1][['text', 'from_id']]\n",
    "one_word_df.loc[:, 'from_id'] = one_word_df.from_id.apply(lambda x: x[0][0])\n",
    "one_word_df = one_word_df.groupby('from_id').agg({'text': list}).reset_index()\n",
    "one_word_df = one_word_df.loc[one_word_df['text'].apply(len).sort_values(ascending=False).index].reset_index(drop=True)\n",
    "for u, w in zip(one_word_df.from_id, one_word_df.text):\n",
    "    if len(w) > 100:\n",
    "        print(u, w[:100], sep='    ', end='\\n\\n')\n",
    "        continue\n",
    "\n",
    "    print(u, w, sep='    ', end='\\n\\n')"
   ]
  },
  {
   "cell_type": "markdown",
   "id": "8dd5f8b5",
   "metadata": {},
   "source": [
    "### Пинги"
   ]
  },
  {
   "cell_type": "code",
   "execution_count": null,
   "id": "3bd6dae6-df89-4e3b-9e70-0afa54939f84",
   "metadata": {},
   "outputs": [],
   "source": [
    "# Анализ пингов в чате\n",
    "pins_df = chat_df[['from_id', 'text']]\n",
    "\n",
    "\n",
    "def get_pins(text):\n",
    "    if re.match(r'@[\\w\\d]+', text):\n",
    "        return re.findall(r'@[\\w\\d]+', text)\n",
    "\n",
    "    return ''\n",
    "\n",
    "\n",
    "pins_df.loc[:, 'text'] = pins_df.text.apply(get_pins)\n",
    "pins_df = (pins_df[pins_df.text != '']\n",
    "                  .rename(columns={'text': 'pins'})\n",
    "                  .merge(members_df, how='left', left_on='from_id', right_on='user_id')\n",
    "                  [['username', 'pins']]\n",
    "                  .reset_index(drop=True))\n",
    "pins_df"
   ]
  },
  {
   "cell_type": "code",
   "execution_count": null,
   "id": "586f4294-3b05-4133-9fd9-c5c3d9f86f47",
   "metadata": {},
   "outputs": [],
   "source": [
    "# Какие пинги встречаются чаще всего?\n",
    "pin_list = []\n",
    "for pin in pins_df.pins:\n",
    "    pin_list.extend(pin)\n",
    "\n",
    "print(*sorted(Counter(pin_list).items(), key=lambda x: x[1], reverse=True)[:20], sep='\\n')"
   ]
  },
  {
   "cell_type": "code",
   "execution_count": null,
   "id": "1f5517ed-7b22-4636-8d4d-0eb0d68901d5",
   "metadata": {},
   "outputs": [],
   "source": [
    "# Кто чаще всего кого-либо пингует*\n",
    "def collect_lists(*args):\n",
    "    all_els = []\n",
    "    for l in args:\n",
    "        # print(l.to_list(), end='\\n' + '_' * 20 + '\\n')\n",
    "        arg_list = []\n",
    "        for el in l.to_list():\n",
    "            arg_list.extend(el)\n",
    "        \n",
    "        all_els.extend(arg_list)\n",
    "    \n",
    "    return all_els\n",
    "\n",
    "\n",
    "pin_count = pins_df.groupby('username', as_index=False).agg({'pins': collect_lists})\n",
    "pin_count.pins = pin_count.pins.apply(len)\n",
    "pin_count = pin_count.sort_values('pins', ascending=False).reset_index(drop=True)\n",
    "pin_count[['username', 'pins']]\n",
    "# pin_count.pins = max_pin_df.pins.apply(len)\n",
    "# pin_count[['username', 'pins']]"
   ]
  },
  {
   "cell_type": "code",
   "execution_count": null,
   "id": "7add483a-d638-41ff-8922-120c81f62fa9",
   "metadata": {},
   "outputs": [],
   "source": [
    "# Кто кого пингует\n",
    "def all_pins(pins):\n",
    "    pinl = sorted(list(Counter(pins).items()), key=lambda x: x[1], reverse=True)\n",
    "    # maxp = max([k1 for _, k1 in pinl])\n",
    "    return [(p, k) for p, k in pinl]\n",
    "\n",
    "\n",
    "member_pins = pins_df.groupby('username', as_index=False).agg({'pins': collect_lists})\n",
    "member_pins.pins = member_pins.pins.apply(all_pins)\n",
    "member_pins = member_pins[['username', 'pins']]\n",
    "for u, p in sorted(zip(member_pins.username, member_pins.pins), \n",
    "                   key=lambda x: sum(x[1][i][1] for i in range(len(x[1]))), reverse=True):\n",
    "    print(u, end='\\n\\n')\n",
    "    print(*p, sep='\\n', end='\\n\\n\\n')"
   ]
  },
  {
   "cell_type": "code",
   "execution_count": null,
   "id": "97ccaa09",
   "metadata": {},
   "outputs": [],
   "source": [
    "# Какие пинги кто использовал\n",
    "pin_members = pd.DataFrame({}, columns=['pin', 'users'])\n",
    "\n",
    "for i in range(pins_df.shape[0]):\n",
    "    for j in range(len(pins_df.loc[i].pins)):\n",
    "        pin_members = pd.concat([pin_members, pd.DataFrame({\n",
    "            'pin': [pins_df.loc[i].pins[j]], 'users': [pins_df.loc[i].username]\n",
    "            })], \n",
    "            ignore_index=True)\n",
    "\n",
    "pin_members = pin_members.groupby('pin', as_index=False).users.apply(all_pins)\n",
    "for p, u in sorted(zip(pin_members.pin, pin_members.users), key=lambda x: sum(x[1][i][1] for i in range(len(x[1]))), reverse=True):\n",
    "    print(p, end='\\n\\n')\n",
    "    print(*u, sep='\\n', end='\\n\\n\\n')\n",
    "    "
   ]
  },
  {
   "cell_type": "markdown",
   "id": "430229dd",
   "metadata": {},
   "source": [
    "### Эмодзи"
   ]
  },
  {
   "cell_type": "code",
   "execution_count": null,
   "id": "fc1aeb4f-fe6c-485f-9092-f1392e002f6e",
   "metadata": {
    "scrolled": true
   },
   "outputs": [],
   "source": [
    "import emoji\n",
    "import re\n",
    "\n",
    "\n",
    "def collect_lists(*args):\n",
    "    all_els = []\n",
    "    for l in args:\n",
    "        # print(l.to_list(), end='\\n' + '_' * 20 + '\\n')\n",
    "        arg_list = []\n",
    "        for el in l:\n",
    "            arg_list.extend(el)\n",
    "        \n",
    "        all_els.extend(arg_list)\n",
    "    \n",
    "    return all_els\n",
    "\n",
    "\n",
    "# Анализ эмодзи\n",
    "emoji_df = words_df[:]\n",
    "emoji_df.text = emoji_df.text.apply(lambda x: [\n",
    "    emoji.emoji_list(w) for w in filter(lambda y: re.match(r'[^а-яёА-ЯЁa-zA-Z.,\\d]', y), x) \n",
    "    if emoji.emoji_count(w) > 0])\n",
    "emoji_df.text = (emoji_df.text\n",
    "                        .apply(lambda x: [[em['emoji'] for em in el] for el in x])\n",
    "                        .apply(collect_lists))\n",
    "\n",
    "emoji_count_df = emoji_df[:]\n",
    "emoji_count_df.text = emoji_df.text.apply(lambda el: sorted(\n",
    "    list(Counter(el).items()), key=lambda x: x[1], reverse=True))\n",
    "emoji_count_df = (emoji_count_df.merge(members_df, left_on='from_id', right_on='user_id')\n",
    "                  [['username', 'text']]\n",
    "                  .rename(columns={'text': 'emojies'}))\n",
    "\n",
    "# Кто какие эмодзи отправил\n",
    "for u, el in sorted(zip(emoji_count_df.username, emoji_count_df.emojies), \n",
    "                    key=lambda x: sum(k for _, k in x[1]), reverse=True):\n",
    "    if len(el) > 0:\n",
    "        print(u, el, sep='    ', end='\\n\\n')\n",
    "    "
   ]
  },
  {
   "cell_type": "code",
   "execution_count": null,
   "id": "6ce3d6c1-5585-4a69-9c17-cea5c060c932",
   "metadata": {
    "scrolled": true
   },
   "outputs": [],
   "source": [
    "emoji_users_df = emoji_df.explode('text')\n",
    "emoji_users_df = emoji_users_df.groupby('text')['from_id'].apply(list).reset_index()\n",
    "emoji_users_df.from_id = emoji_users_df.from_id.apply(lambda x: sorted(\n",
    "    list(Counter(x).items()), key=lambda x: x[1], reverse=True))\n",
    "\n",
    "ud = {ui: nm for ui, nm in zip(members_df.user_id, members_df.username)}\n",
    "# print(ud)\n",
    "emoji_users_df.from_id = emoji_users_df.from_id.apply(lambda x: [(ud[ui], k) for ui, k in x])\n",
    "\n",
    "# Какие эмодзи кем были отправлены\n",
    "for em, ul in sorted(zip(emoji_users_df.text, emoji_users_df.from_id), \n",
    "                     key=lambda x: sum(k for _, k in x[1]), reverse=True):\n",
    "    print(em, ul, sep='    ', end='\\n\\n')"
   ]
  },
  {
   "cell_type": "code",
   "execution_count": null,
   "id": "9d06c760",
   "metadata": {},
   "outputs": [],
   "source": [
    "# Какая доля эмодзи среди всех слов\n",
    "emoji_stat = emoji_df[:]\n",
    "emoji_stat.text = emoji_stat.text.apply(len)\n",
    "emoji_stat = (emoji_stat[emoji_stat.text > 0]\n",
    "                        .sort_values('text', ascending=False)\n",
    "                        .reset_index(drop=True)\n",
    "                        .merge(members_df[\n",
    "                            members_df.user_id.str.startswith('user') | members_df.user_id.str.startswith('channel')\n",
    "                            ], \n",
    "                               how='left', left_on='from_id', right_on='user_id')\n",
    "                        [['username', 'text']]\n",
    "                        .rename(columns={'text': 'emojies'}))\n",
    "emoji_stat = emoji_stat.merge(words_count[words_count.text > 300], on='username')\n",
    "emoji_stat.text = emoji_stat.emojies / emoji_stat.text\n",
    "emoji_stat = emoji_stat.sort_values('emojies', ascending=False).reset_index(drop=True)\n",
    "emoji_stat"
   ]
  },
  {
   "cell_type": "code",
   "execution_count": null,
   "id": "fb46cfb8",
   "metadata": {},
   "outputs": [],
   "source": [
    "# Кто сколько использовал эмодзи в сообщениях\n",
    "emoji_stat.sort_values('text', ascending=False).reset_index(drop=True)"
   ]
  },
  {
   "cell_type": "code",
   "execution_count": null,
   "id": "7321ba92-2bd3-48f5-ac3b-9081241c5b72",
   "metadata": {
    "scrolled": true
   },
   "outputs": [],
   "source": [
    "words_df.text.apply(lambda x: list(filter(lambda y: re.match(r'[^а-яёА-ЯЁa-zA-Z.,\\d]', y), x)) or None).dropna()"
   ]
  },
  {
   "cell_type": "markdown",
   "id": "5e25745d",
   "metadata": {},
   "source": [
    "### Визуализация слов"
   ]
  },
  {
   "cell_type": "code",
   "execution_count": null,
   "id": "d9670fff",
   "metadata": {},
   "outputs": [],
   "source": [
    "import re\n",
    "\n",
    "import nltk.data\n",
    "from nltk.corpus import stopwords\n",
    "from nltk.tokenize import word_tokenize\n",
    "\n",
    "nltk.data.path.append(\"bigdata/local_nltk\")\n",
    "\n",
    "\n",
    "def get_tokens(df):\n",
    "    \"\"\"Токенизация текста по словам, очистка от стоп слов и прочих символов\"\"\"\n",
    "    # cleaned_text = [re.sub(r'[^a-zA-Zа-яёА-ЯЁ@#\\s]', '', m) \n",
    "    #                 for m in chat_df[~chat_df.text.str.startswith('File: <')].text]\n",
    "\n",
    "    tokens = []\n",
    "    for m in df.text:\n",
    "        # if 'http://' in m or 'https://' in m:\n",
    "        #     pattern = r'http[s]?://(?:[a-zA-Z]|[0-9]|[$-_@.&+]|[!*\\\\(\\\\),]|(?:%[0-9a-fA-F][0-9a-fA-F]))+'\n",
    "        #     # links = re.findall(pattern, m)\n",
    "        #     m = re.sub(pattern, '', m)\n",
    "        \n",
    "        tokens.append(word_tokenize(m, language='russian'))\n",
    "\n",
    "    lowercase_tokens = [[token.lower() for token in m] for m in tokens]\n",
    "\n",
    "    stop_words = set(stopwords.words('russian'))\n",
    "    filtered_tokens = [[word for word in m if word not in stop_words] for m in lowercase_tokens]\n",
    "\n",
    "    # print([word for word in m for m in filtered_tokens for word in m])\n",
    "    return list(filter(lambda x: x, [re.sub(r'[^a-zA-Zа-яёА-ЯЁ@#\\s]', '', word) \n",
    "                                     for m in filtered_tokens for word in m]))\n",
    "\n",
    "\n",
    "tokenized_words = get_tokens(chat_df[~chat_df.text.str.startswith('File: <')])\n",
    "print(*sorted(Counter(tokenized_words).items(),\n",
    "              key=lambda x: x[1], reverse=True)[:50], sep='\\n')\n",
    "# filtered_tokens[:100]\n",
    "# tokenized_words[:100]"
   ]
  },
  {
   "cell_type": "code",
   "execution_count": null,
   "id": "a3f30c64",
   "metadata": {},
   "outputs": [],
   "source": [
    "# Получение значимых слов для каждого участника по TF-IDF\n",
    "from sklearn.feature_extraction.text import TfidfVectorizer\n",
    "\n",
    "\n",
    "# Смотрим слова, которые встречаются чаще всего у пользователей чарез tf-idf\n",
    "tfidf_data = (chat_df.groupby('from_id', as_index=False).text\n",
    "                     .apply(lambda x: ' '.join(get_tokens(pd.DataFrame({'text': [' '.join(x)]})))))\n",
    "\n",
    "# Векторизация текста с помощью TF-IDF\n",
    "vectorizer = TfidfVectorizer()\n",
    "tfidf_matrix = vectorizer.fit_transform(tfidf_data.text)\n",
    "\n",
    "# Получение значений TF-IDF в виде DataFrame\n",
    "tfidf_df = pd.DataFrame(tfidf_matrix.toarray(), columns=vectorizer.get_feature_names_out())\n",
    "tfidf_df.index = tfidf_data.from_id\n",
    "\n",
    "# print(tfidf_df)\n",
    "\n",
    "# Функция для поиска слов с высоким TF-IDF\n",
    "def get_high_tfidf_words(tfidf_row, threshold=0.00175):\n",
    "    # print(tfidf_row[tfidf_row != 0.0])\n",
    "    # print(tfidf_row > threshold)\n",
    "    return tfidf_row[tfidf_row > threshold].index.tolist()\n",
    "\n",
    "# Применение функции ко всем документам\n",
    "# tfidf_data['valuable_words'] = tfidf_df.apply(get_high_tfidf_words, axis=1)\n",
    "tfidf_df = (tfidf_df.apply(get_high_tfidf_words, axis=1)\n",
    "                    .reset_index().rename(columns={0: 'words'})\n",
    "                    .merge(members_df[\n",
    "                        members_df.user_id.str.startswith('user') | members_df.user_id.str.startswith('channel')\n",
    "                        ], \n",
    "                           how='left', left_on='from_id', right_on='user_id')\n",
    "                    [['username', 'words']])\n",
    "\n",
    "# Вывод результатов\n",
    "for i, line in tfidf_df[(tfidf_df.words.apply(len) > 0) & ~tfidf_df.username.isna()].iterrows():\n",
    "    # print(word_stat[word_stat.username == line.username].text.values[0][0])\n",
    "    print(line.username, [w for w in word_stat[word_stat.username == line.username].text.values[0] \n",
    "                          if w[0] in line.words], end='\\n\\n')\n"
   ]
  },
  {
   "cell_type": "code",
   "execution_count": null,
   "id": "675033e5",
   "metadata": {},
   "outputs": [],
   "source": [
    "tfidf_words = []\n",
    "for _, wlist in tfidf_df.iterrows():\n",
    "    tfidf_words.extend(wlist.words)\n",
    "\n",
    "tfidf_words = list(set(tfidf_words))\n",
    "tfidf_words[:10]"
   ]
  },
  {
   "cell_type": "code",
   "execution_count": null,
   "id": "0d5414f3",
   "metadata": {},
   "outputs": [],
   "source": [
    "# ФОрмируем облако слов из токенов\n",
    "from wordcloud import WordCloud\n",
    "\n",
    "\n",
    "# is_tfidf = {t: t in tfidf_words for t in set(tokenized_words)}\n",
    "\n",
    "# text_wordcloud = ' '.join([t for t in tokenized_words if is_tfidf[t]]) \n",
    "text_wordcloud = ' '.join(tokenized_words)\n",
    "wordcloud = WordCloud(width=1200, height=600, max_font_size=200, max_words=100, \n",
    "                      colormap='Dark2_r', background_color=\"white\").generate(text_wordcloud)\n",
    "\n",
    "plt.figure(figsize=(14,7))\n",
    "plt.imshow(wordcloud)\n",
    "plt.title('Топ 100 слов чата МКН')\n",
    "plt.axis(\"off\")\n",
    "plt.show()"
   ]
  },
  {
   "cell_type": "code",
   "execution_count": null,
   "id": "a99bda05",
   "metadata": {},
   "outputs": [],
   "source": [
    "import pymorphy2\n",
    "\n",
    "\n",
    "lemmatizer = pymorphy2.MorphAnalyzer()\n",
    "lemmatized_tokens = [lemmatizer.parse(word)[0].normal_form for word in tokenized_words]\n",
    "# lemmatized_tfidf = [lemmatizer.parse(word)[0].normal_form for word in tfidf_words]\n",
    "print(*sorted(Counter(lemmatized_tokens).items(), \n",
    "              key=lambda x: x[1], reverse=True)[1:21], sep='\\n')"
   ]
  },
  {
   "cell_type": "code",
   "execution_count": null,
   "id": "aa8560f8",
   "metadata": {},
   "outputs": [],
   "source": [
    "from wordcloud import WordCloud\n",
    "\n",
    "\n",
    "# is_tfidf = {t: t in lemmatized_tfidf for t in set(lemmatized_tokens)}\n",
    "# text_wordcloud = ' '.join([t for t in lemmatized_tokens if is_tfidf[t]]) \n",
    "text_wordcloud= ' '.join(lemmatized_tokens) \n",
    "wordcloud = WordCloud(width=1200, height=600, max_font_size=200, max_words=100, \n",
    "                      colormap='Dark2_r', background_color=\"white\").generate(text_wordcloud)\n",
    "\n",
    "plt.figure(figsize=(14,7))\n",
    "plt.imshow(wordcloud)\n",
    "plt.title('Топ 100 слов чата МКН (лемматизированные)')\n",
    "plt.axis(\"off\")\n",
    "plt.show()"
   ]
  },
  {
   "cell_type": "code",
   "execution_count": null,
   "id": "d5bb4a23",
   "metadata": {},
   "outputs": [],
   "source": [
    "# Персонализированное облако слов\n",
    "uid = ''  \n",
    "user_tokenized = get_tokens(chat_df[~chat_df.text.str.startswith('File: <') & (chat_df.from_id == uid)])\n",
    "\n",
    "# is_tfidf = {t: t in tfidf_words for t in set(user_tokenized)}\n",
    "# text_wordcloud = ' '.join([t for t in user_tokenized if is_tfidf[t]]) \n",
    "\n",
    "text_wordcloud= ' '.join(user_tokenized) \n",
    "wordcloud = WordCloud(width=1200, height=600, max_font_size=200, max_words=100, \n",
    "                      colormap='Dark2_r', background_color=\"white\").generate(text_wordcloud)\n",
    "\n",
    "plt.figure(figsize=(14,7))\n",
    "plt.imshow(wordcloud)\n",
    "plt.title('Топ 100 слов ' + members_df[members_df.user_id == uid].username.values[0])\n",
    "plt.axis(\"off\")\n",
    "plt.show()"
   ]
  },
  {
   "cell_type": "markdown",
   "id": "452809b2",
   "metadata": {},
   "source": [
    "## Реакции"
   ]
  },
  {
   "cell_type": "code",
   "execution_count": null,
   "id": "3a41a036",
   "metadata": {},
   "outputs": [],
   "source": [
    "reacts_df.emoji = reacts_df.emoji.fillna(reacts_df.document_id)\n",
    "reacts_df"
   ]
  },
  {
   "cell_type": "code",
   "execution_count": null,
   "id": "b95546dc",
   "metadata": {},
   "outputs": [],
   "source": [
    "members_reacts_df.date = pd.to_datetime(members_reacts_df.date, errors='coerce')\n",
    "members_reacts_df.member_id = members_reacts_df.member_id.fillna('Unknown')\n",
    "members_df = pd.concat([members_df, pd.DataFrame({'user_id': ['Unknown'], 'username': ['Unknown']})], axis=0, ignore_index=True)"
   ]
  },
  {
   "cell_type": "code",
   "execution_count": null,
   "id": "bc0280f2",
   "metadata": {},
   "outputs": [],
   "source": [
    "# Топ реакций\n",
    "\n",
    "# print(memders_reacts_df.groupby('reaction_id', as_index=False).count()['message_id'].sum())\n",
    "# print(memders_reacts_df.groupby('reaction_id', as_index=False).count()['member_id'].sum())\n",
    "(members_reacts_df.groupby('reaction_id', as_index=False).count()\n",
    " [['reaction_id', 'message_id']]\n",
    "                  .merge(reacts_df, how='left', left_on='reaction_id', right_on='id')\n",
    "                  [['emoji', 'message_id']]\n",
    "                  .sort_values('message_id', ascending=False)\n",
    "                  .reset_index(drop=True)[:20])"
   ]
  },
  {
   "cell_type": "code",
   "execution_count": null,
   "id": "dc3683e8",
   "metadata": {},
   "outputs": [],
   "source": [
    "# Кто ставит больше всего реакций\n",
    "reacts_count = (members_reacts_df.groupby('member_id', as_index=False).count()\n",
    "                [['member_id', 'reaction_id']]\n",
    "                .merge(members_df, how='left', left_on='member_id', right_on='user_id')\n",
    "                [['username', 'reaction_id']]\n",
    "                .sort_values('reaction_id', ascending=False)\n",
    "                .reset_index(drop=True))\n",
    "reacts_count[:20]"
   ]
  },
  {
   "cell_type": "code",
   "execution_count": null,
   "id": "9c6a56fc",
   "metadata": {},
   "outputs": [],
   "source": [
    "# Соотношение реакций к количеству сообщений\n",
    "reacts_ratio = reacts_count.merge(message_count, how='left', on='username')\n",
    "reacts_ratio.reaction_id = reacts_ratio.reaction_id / reacts_ratio.id\n",
    "reacts_ratio.sort_values('reaction_id', ascending=False).reset_index(drop=True)[['username', 'reaction_id']][:20]"
   ]
  },
  {
   "cell_type": "code",
   "execution_count": null,
   "id": "1429b6dd",
   "metadata": {},
   "outputs": [],
   "source": [
    "mess_reacts = (members_reacts_df.rename(columns={'date': 'rdate'})\n",
    "                                .merge(chat_df, how='left', left_on='message_id', right_on='id'))\n",
    "mess_reacts = mess_reacts[['message_id', 'from_id', 'date', 'reaction_id', 'member_id', 'rdate']]\n",
    "mess_reacts"
   ]
  },
  {
   "cell_type": "code",
   "execution_count": null,
   "id": "9049a13c",
   "metadata": {},
   "outputs": [],
   "source": [
    "# Кому больше всего ставят реакций\n",
    "(mess_reacts.groupby('from_id', as_index=False).count()\n",
    "            .sort_values('reaction_id', ascending=False)\n",
    "            .reset_index(drop=True)\n",
    "            .merge(members_df, left_on='from_id', right_on='user_id')\n",
    "            [['username', 'reaction_id']][:20])"
   ]
  },
  {
   "cell_type": "code",
   "execution_count": null,
   "id": "2d868f6f",
   "metadata": {},
   "outputs": [],
   "source": [
    "# Кто кому больше всего ставит реакций\n",
    "(mess_reacts.groupby(['from_id', 'member_id'], as_index=False).count()\n",
    "            .sort_values('reaction_id', ascending=False)\n",
    "            .reset_index(drop=True)\n",
    "            .merge(members_df, how='left', left_on='member_id', right_on='user_id')\n",
    "            [['from_id', 'username', 'reaction_id']]\n",
    "            .rename(columns={'username': 'ruser'})\n",
    "            .merge(members_df, how='left', left_on='from_id', right_on='user_id')\n",
    "            [['ruser', 'username', 'reaction_id']][:20])"
   ]
  },
  {
   "cell_type": "code",
   "execution_count": null,
   "id": "0aba6da6",
   "metadata": {},
   "outputs": [],
   "source": [
    "# Сколько уникальных аккаунтов отреагировали на все сообщения участника чата\n",
    "(mess_reacts.groupby('from_id', as_index=False).member_id.nunique()\n",
    "            .sort_values('member_id', ascending=False)\n",
    "            .reset_index(drop=True)\n",
    "            .merge(members_df, how='inner', left_on='from_id', right_on='user_id')\n",
    "            [['username', 'member_id']][:20])"
   ]
  },
  {
   "cell_type": "code",
   "execution_count": null,
   "id": "00271512",
   "metadata": {},
   "outputs": [],
   "source": [
    "# Скольким уникальным аккаунтам участники чата оставили реакции\n",
    "(mess_reacts.groupby('member_id', as_index=False).from_id.nunique()\n",
    "            .sort_values('from_id', ascending=False)\n",
    "            .reset_index(drop=True)\n",
    "            .merge(members_df, how='inner', left_on='member_id', right_on='user_id')\n",
    "            [['username', 'from_id']][:20])"
   ]
  },
  {
   "cell_type": "code",
   "execution_count": null,
   "id": "451a7e2d",
   "metadata": {},
   "outputs": [],
   "source": [
    "# Сообщения с самым большим количеством реакций (от пользователей)\n",
    "(mess_reacts.groupby('message_id', as_index=False).count()\n",
    "            # .sort_values('reaction_id', ascending=False).reset_index(drop=True)\n",
    "            [['message_id', 'reaction_id']]\n",
    "            .merge(chat_df, how='left', left_on='message_id', right_on='id')\n",
    "            # [['message_id', 'from_id', 'text', 'reaction_id', 'date']]\n",
    "            .merge(members_df[~members_df.user_id.str.startswith('channel')], \n",
    "                   how='inner', left_on='from_id', right_on='user_id')\n",
    "            [['message_id', 'username', 'text', 'reaction_id', 'date']]\n",
    "            .sort_values(['reaction_id', 'message_id'], ascending=[False, True])\n",
    "            .reset_index(drop=True)[:20])"
   ]
  },
  {
   "cell_type": "code",
   "execution_count": null,
   "id": "2ca44e65",
   "metadata": {},
   "outputs": [],
   "source": [
    "# Сообщения с самым большим количеством реакций (от каналов)\n",
    "(mess_reacts.groupby('message_id', as_index=False).count()\n",
    "            # .sort_values('reaction_id', ascending=False).reset_index(drop=True)\n",
    "            [['message_id', 'reaction_id']]\n",
    "            .merge(chat_df, how='left', left_on='message_id', right_on='id')\n",
    "            # [['message_id', 'from_id', 'text', 'reaction_id', 'date']]\n",
    "            .merge(members_df[members_df.user_id.str.startswith('channel')], \n",
    "                   how='inner', left_on='from_id', right_on='user_id')\n",
    "            [['message_id', 'username', 'text', 'reaction_id', 'date']]\n",
    "            .sort_values(['reaction_id', 'message_id'], ascending=[False, True])\n",
    "            .reset_index(drop=True)[:20])"
   ]
  },
  {
   "cell_type": "code",
   "execution_count": null,
   "id": "6ed84b7c",
   "metadata": {},
   "outputs": [],
   "source": [
    "# Кто каких реакций больше всего получает\n",
    "(mess_reacts[~mess_reacts.reaction_id.isin([1, 3])].groupby('from_id', as_index=False).reaction_id.value_counts()\n",
    "            [['from_id', 'reaction_id', 'count']]\n",
    "            .sort_values(['count', 'from_id', 'reaction_id'], ascending=[False, True, True])\n",
    "            .groupby('from_id', as_index=False).agg({'count': 'max', 'reaction_id': 'first'})\n",
    "            .merge(members_df, how='left', left_on='from_id', right_on='user_id')\n",
    "            .merge(reacts_df, how='left', left_on='reaction_id', right_on='id')\n",
    "            [['username', 'emoji', 'count']]\n",
    "            .sort_values(['count', 'username'], ascending=[False, True])\n",
    "            .reset_index(drop=True)[:20])"
   ]
  },
  {
   "cell_type": "code",
   "execution_count": null,
   "id": "9758d00d",
   "metadata": {},
   "outputs": [],
   "source": [
    "# Кто какие реакции больше всего ставит\n",
    "(mess_reacts[~mess_reacts.reaction_id.isin([1, 3])].groupby('member_id', as_index=False).reaction_id.value_counts()\n",
    "            .sort_values(['count', 'member_id', 'reaction_id'], ascending=[False, True, True])\n",
    "            .groupby('member_id', as_index=False).agg({'count': 'max', 'reaction_id': 'first'})\n",
    "            .merge(members_df, how='left', left_on='member_id', right_on='user_id')\n",
    "            .merge(reacts_df, how='left', left_on='reaction_id', right_on='id')\n",
    "            [['username', 'emoji', 'count']]\n",
    "            .sort_values(['count', 'username'], ascending=[False, True])\n",
    "            .reset_index(drop=True)[:20])"
   ]
  },
  {
   "cell_type": "code",
   "execution_count": null,
   "id": "e6c3cbaf",
   "metadata": {},
   "outputs": [],
   "source": [
    "# Какие реакции кто ставит\n",
    "reacts_count = (mess_reacts.merge(members_df, how='left', left_on='member_id', right_on='user_id')\n",
    "                           .groupby('reaction_id', as_index=False).username.apply(list))\n",
    "reacts_count.username = reacts_count.username.apply(lambda x: list(\n",
    "    sorted([(m, c) for m, c in Counter(x).items()], key=lambda y: -y[1])))\n",
    "reacts_count = reacts_count.merge(reacts_df, left_on='reaction_id', right_on='id')[['emoji', 'username']]\n",
    "\n",
    "for react, un in sorted(zip(reacts_count.emoji, reacts_count.username), \n",
    "                        key=lambda x: sum(k for _, k in x[1]), reverse=True):\n",
    "    print(react, un, sep='    ', end='\\n\\n')\n"
   ]
  },
  {
   "cell_type": "code",
   "execution_count": null,
   "id": "afd463e3",
   "metadata": {},
   "outputs": [],
   "source": [
    "# Кому от кого и сколько каких реакций получил\n",
    "members_reacts_count = (mess_reacts.merge(members_df, how='left', left_on='member_id', right_on='user_id')\n",
    "                                   .groupby(['from_id', 'reaction_id'], as_index=False).username\n",
    "                                   .apply(list)\n",
    "                                   .rename(columns={'username': 'ruser'})\n",
    "                                   .merge(reacts_df, left_on='reaction_id', right_on='id')\n",
    "                                   .merge(members_df, how='left', left_on='from_id', right_on='user_id')\n",
    "                                   [['username', 'emoji', 'ruser']])\n",
    "\n",
    "members_reacts_count.ruser = members_reacts_count.ruser.apply(\n",
    "    lambda x: list(sorted([(m, c) for m, c in Counter(x).items()], key=lambda y: -y[1])))\n",
    "members_reacts_count.emoji = members_reacts_count.apply(lambda x: (x.emoji, x.ruser), axis=1)\n",
    "members_reacts_count = members_reacts_count.groupby('username', as_index=False).emoji.apply(\n",
    "    lambda x: sorted(list(x), key=lambda y: sum(k for _, k in y[1]), reverse=True))\n",
    "\n",
    "for un, react in sorted(zip(members_reacts_count.username, members_reacts_count.emoji), \n",
    "                        key=lambda x: sum(k for _, y in x[1] for _, k in y), reverse=True):\n",
    "    print(un, end='\\n\\n')\n",
    "    print(*react, sep='\\n\\n', end='\\n\\n\\n')\n"
   ]
  },
  {
   "cell_type": "code",
   "execution_count": null,
   "id": "8e0acb73",
   "metadata": {},
   "outputs": [],
   "source": [
    "react_time = mess_reacts[:]\n",
    "react_time.rdate = mess_reacts.rdate - mess_reacts.date\n",
    "react_time = react_time.sort_values('rdate').reset_index(drop=True).dropna()\n",
    "react_time"
   ]
  },
  {
   "cell_type": "code",
   "execution_count": null,
   "id": "e2cbb528",
   "metadata": {},
   "outputs": [],
   "source": [
    "# График распределения времени реакций\n",
    "(react_time.rdate.groupby(react_time[react_time.rdate.dt.seconds <= 60].rdate.dt.floor('1s')).count()\n",
    "           .plot.area(figsize=(14, 6), title='Количество реакций, которые были поставлены спустя указанное время'))"
   ]
  },
  {
   "cell_type": "code",
   "execution_count": null,
   "id": "edb7b5b2",
   "metadata": {},
   "outputs": [],
   "source": [
    "uid = ''  # идентификатор пользователя для индивидуального графика распределения времени реакций\n",
    "# [react_time.rdate.dt.days <= 30]\n",
    "(react_time[react_time.member_id == uid].rdate.groupby(react_time[react_time.rdate.dt.seconds <= 60].rdate.dt.floor('1s')).count()\n",
    "           .plot.area(figsize=(14, 6), title='Количество реакций, которые поставил участник чата спустя указанное время\\n' \n",
    "                      f'{members_df.loc[members_df.user_id == uid, [\"username\"]].values[0][0]}'))"
   ]
  }
 ],
 "metadata": {
  "kernelspec": {
   "display_name": "Python 3",
   "language": "python",
   "name": "python3"
  },
  "language_info": {
   "codemirror_mode": {
    "name": "ipython",
    "version": 3
   },
   "file_extension": ".py",
   "mimetype": "text/x-python",
   "name": "python",
   "nbconvert_exporter": "python",
   "pygments_lexer": "ipython3",
   "version": "3.10.7"
  }
 },
 "nbformat": 4,
 "nbformat_minor": 5
}
